{
 "cells": [
  {
   "cell_type": "code",
   "execution_count": null,
   "metadata": {},
   "outputs": [],
   "source": [
    "import os\n",
    "\n",
    "os.chdir(\"/data/FUTURES_case_study/\")"
   ]
  },
  {
   "cell_type": "code",
   "execution_count": null,
   "metadata": {},
   "outputs": [],
   "source": [
    "import subprocess\n",
    "import sys\n",
    "import pathlib\n",
    "import json\n",
    "import pandas as pd\n",
    "from IPython.display import Image\n",
    "\n",
    "# Ask GRASS GIS where its Python packages are.\n",
    "sys.path.append(\n",
    "    subprocess.check_output([\"grass8\", \"--config\", \"python_path\"], text=True).strip()\n",
    ")\n",
    "\n",
    "# Import GRASS packages\n",
    "import grass.script as gs\n",
    "import grass.jupyter as gj\n",
    "\n",
    "# Start GRASS Session\n",
    "session = gj.init(\".\", \"FUTURES\", \"figure\")"
   ]
  },
  {
   "cell_type": "code",
   "execution_count": null,
   "metadata": {},
   "outputs": [],
   "source": [
    "!g.region region=nashville -p"
   ]
  },
  {
   "cell_type": "code",
   "execution_count": null,
   "metadata": {},
   "outputs": [],
   "source": [
    "%%writefile frame.txt\n",
    "color 255:255:255\n",
    "width 4\n",
    "  polyline\n",
    "   807097 1497916\n",
    "   807097 1519224\n",
    "   833094 1519224\n",
    "   833094 1497916\n",
    "    807097 1497916"
   ]
  },
  {
   "cell_type": "code",
   "execution_count": null,
   "metadata": {},
   "outputs": [],
   "source": [
    "label|symbol_name|size|color_type|feature_color|fill_color|line_width|geometry_type|feature_count"
   ]
  },
  {
   "cell_type": "code",
   "execution_count": null,
   "metadata": {},
   "outputs": [],
   "source": [
    "%%writefile legend.txt\n",
    "2019|legend/area|100|lf|none|#9c9c9c|1|area|1\n",
    "2050|legend/area|25|lf|none|#F6ABFF|1|area|1"
   ]
  },
  {
   "cell_type": "code",
   "execution_count": null,
   "metadata": {},
   "outputs": [],
   "source": [
    "%%writefile legend.txt\n",
    "Simulated development in 2050    |legend/area|25|lf|none|#F6ABFF|1|area|1"
   ]
  },
  {
   "cell_type": "code",
   "execution_count": null,
   "metadata": {},
   "outputs": [],
   "source": [
    "gs.run_command(\"g.region\", n=1528356, s=1450112, w=770446, e=865910, align=\"probability@tutorial\", save=\"nashville\")\n",
    "gs.write_command(\"r.colors\", map=\"urban_2019@tutorial\", rules=\"-\",stdin=\"0 white\\n1 #9c9c9c\")\n",
    "gs.run_command(\"r.colors\", map=\"probability@tutorial\", color=\"magma\")\n",
    "m = gj.Map(saved_region=\"nashville\", width=1000)\n",
    "m.d_background(color=\"#2D2D2D\")\n",
    "m.d_rast(map=\"probability@tutorial\")\n",
    "m.d_rast(map=\"urban_2019@tutorial\", values=1)\n",
    "m.d_vect(map=\"tl_2021_47_prisecroads\", color=\"200:200:200\", width=1)\n",
    "\n",
    "m.d_graph(input=\"frame.txt\", flags=\"m\")\n",
    "# m.d_legend(raster=\"probability@tutorial\", color=\"black\", at=\"4,8,1,38\", title=\"Development probability\", #at=\"1,15,1,4\"\n",
    "#            flags=\"b\", border_color=\"230:230:230\", bgcolor=\"230:230:230\", fontsize=18, labelnum=2, digits=0, title_fontsize=25, font=\"Lato-Regular\")\n",
    "# m.d_barscale(style=\"solid\", at=[40,3], font=\"Lato-Regular\", length=20, unit=\"kilometers\", fontsize=17, bgcolor=\"230:230:230\")\n",
    "m.d_legend(raster=\"probability@tutorial\", color=\"black\", at=\"10,14,2,25.7\", title=\"Development probability\", #at=\"1,15,1,4\"\n",
    "           flags=\"b\", border_color=\"230:230:230\", bgcolor=\"230:230:230\", fontsize=17, labelnum=2, digits=0, title_fontsize=17, font=\"Lato-Regular\")\n",
    "m.d_barscale(style=\"solid\", at=[0,6], font=\"Lato-Regular\", length=25, unit=\"kilometers\", fontsize=17, bgcolor=\"230:230:230\", text_position=\"under\")\n",
    "#m.d_text(text=\"A\", at=\"94.1,6\", align=\"cc\", color=\"black\", font=\"Lato-Bold\", size=10)\n",
    "m.d_text(text=\"A\", at=\"94,6\", align=\"cc\", color=\"white\", font=\"Lato-Bold\", size=8)\n",
    "m.d_text(flags=\"g\", text=\"B\", at=\"830094,1502016\", align=\"cc\", color=\"white\", font=\"Lato-Bold\", size=8)\n",
    "\n",
    "m.save(\"nashville.png\")\n",
    "m.show()\n"
   ]
  },
  {
   "cell_type": "code",
   "execution_count": null,
   "metadata": {},
   "outputs": [],
   "source": [
    "\n",
    "gs.run_command(\"g.region\", n=1519224, s=1497916, w=807097, e=833094, align=\"probability@tutorial\", save=\"nashville_zoom\")\n",
    "gs.write_command(\"r.colors\", map=\"out_seed_1@results_1\", rules=\"-\", stdin=\"-1 #171717\\n0 #878686\\n1 #F6ABFF\\n 100 #F6ABFF\")\n",
    "m = gj.Map(saved_region=\"nashville_zoom\", width=1000)\n",
    "m.d_background(color=\"#2D2D2D\")\n",
    "m.d_rast(map=\"out_seed_1@results_1\")\n",
    "#m.d_rast(map=\"urban_2019@tutorial\", values=1)\n",
    "m.d_vect(map=\"tl_2021_47_prisecroads\", color=\"200:200:200\", width=1)\n",
    "#m.d_legend(raster=\"probability@tutorial\", color=\"black\", at=\"1,15,1,4\", title=\"Probability\", flags=\"b\", border_color=\"white\", fontsize=15, labelnum=2, digits=0)\n",
    "m.d_legend_vect(flags=\"b\", at=[1,13], symbol_size=36, fontsize=17, input=\"legend.txt\",\n",
    "               border_color=\"none\", font=\"Lato-Regular\", columns=1, bgcolor=\"230:230:230\",)\n",
    "# m.d_barscale(style=\"solid\", at=[0,6], font=\"Lato-Regular\", length=5, unit=\"kilometers\", fontsize=17, bgcolor=\"230:230:230\",)\n",
    "m.d_barscale(style=\"solid\", at=[0,6], font=\"Lato-Regular\", length=10, unit=\"kilometers\", fontsize=17, bgcolor=\"230:230:230\", text_position=\"under\")\n",
    "m.d_text( text=\"B\", at=\"94,6\", align=\"cc\", color=\"white\", font=\"Lato-Bold\", size=8)\n",
    "m.save(\"nashville_zoomin.png\")\n",
    "m.show()"
   ]
  },
  {
   "cell_type": "code",
   "execution_count": null,
   "metadata": {},
   "outputs": [],
   "source": [
    "#gs.run_command(\"r.colors\", map=\"forest_loss\", color=\"magma\")\n",
    "#gs.run_command(\"r.mask\", raster=\"SE_states\")\n",
    "#gs.run_command(\"g.region\", save=\"CONUS\", vector=\"states\", align=\"forest_loss@tutorial\")\n",
    "m = gj.Map(width=1000, saved_region=\"CONUS\")\n",
    "m.d_vect(map=\"states\", fill_color=\"#2D2D2D\", width=1, color=\"none\")\n",
    "#m.d_vect(map=\"states\", fill_color=\"#171717\", width=1, color=\"none\")\n",
    "#m.d_background(color=\"white\")\n",
    "m.d_rast(map=\"forest_loss\")\n",
    "#m.d_rast(map=\"urban_2019@tutorial\", values=1)\n",
    "m.d_vect(map=\"states\", color=\"200:200:200\", width=1, fill_color=\"none\")\n",
    "m.d_legend(raster=\"forest_loss\", color=\"black\", at=\"13,17,5,25\", title=\"Forest loss in 2050 [km sq]\", #at=\"1,15,1,4\"\n",
    "           flags=\"bt\", border_color=\"white\", fontsize=17, labelnum=5, digits=0, title_fontsize=17)\n",
    "m.d_barscale(style=\"solid\", at=[3.5,6], font=\"Lato-Regular\",  fontsize=17, text_position=\"under\")\n",
    "m.save(\"forest_loss.png\")\n",
    "m.show()"
   ]
  },
  {
   "cell_type": "code",
   "execution_count": null,
   "metadata": {},
   "outputs": [],
   "source": [
    "gs.run_command(\"g.region\", flags=\"d\", n=\"n+90000\", w=\"w-90000\", s=\"s-50000\", e=\"e+50000\", align=\"nlcd_2019\", save=\"overview\")\n",
    "gs.write_command(\"v.in.ascii\", flags=\"t\", input=\"-\", output=\"nashville\", stdin=\"819538.3156168542,1492908.1911508846\", sep=\"comma\")\n",
    "m = gj.Map(width=282, saved_region=\"overview\")\n",
    "#m.d_background(color=\"#2D2D2D\")\n",
    "#m.d_background(color=\"20:20:20\")\n",
    "m.d_background(color=\"230:230:230\")\n",
    "m.d_vect(map=\"states\", color=\"200:200:200\", width=1, fill_color=\"#9C9C9C\")\n",
    "#m.d_vect(map=\"SE_states\", color=\"200:200:200\", width=3, fill_color=\"#9C9C9C\")\n",
    "#m.d_vect(map=\"nashville\", icon=\"basic/circle\", size=15, color=\"#EA6F6D\", fill_color=\"#EA6F6D\")\n",
    "m.d_vect(map=\"nashville\", icon=\"basic/circle\", size=15, color=\"white\", fill_color=\"white\")\n",
    "m.d_text(flags=\"g\", text=\"Nashville, TN\", at=\"900038.3156168542,1492908.1911508846\", align=\"ll\", color=\"white\", font=\"Lato-Bold\")\n",
    "m.save(\"overview.png\")\n",
    "m.show()"
   ]
  },
  {
   "cell_type": "code",
   "execution_count": null,
   "metadata": {},
   "outputs": [],
   "source": [
    "from PIL import Image as PILImage\n",
    "\n",
    "im1 = PILImage.open('nashville.png')\n",
    "im2 = PILImage.open('overview.png')\n",
    "im3 = PILImage.new('RGB', (im2.size[0] + 5, im2.size[1]+ 5), (200, 200, 200))\n",
    "# im1.paste(im3)\n",
    "im1.paste(im2, (0, 00))\n",
    "im1.save(\"nashville_overview.png\")\n",
    "Image(\"nashville_overview.png\")"
   ]
  },
  {
   "cell_type": "code",
   "execution_count": null,
   "metadata": {},
   "outputs": [],
   "source": []
  }
 ],
 "metadata": {
  "kernelspec": {
   "display_name": "Python 3",
   "language": "python",
   "name": "python3"
  },
  "language_info": {
   "codemirror_mode": {
    "name": "ipython",
    "version": 3
   },
   "file_extension": ".py",
   "mimetype": "text/x-python",
   "name": "python",
   "nbconvert_exporter": "python",
   "pygments_lexer": "ipython3",
   "version": "3.8.10"
  }
 },
 "nbformat": 4,
 "nbformat_minor": 4
}
