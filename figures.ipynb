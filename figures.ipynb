{
 "cells": [
  {
   "cell_type": "code",
   "execution_count": null,
   "metadata": {},
   "outputs": [],
   "source": [
    "import os\n",
    "\n",
    "os.chdir(\"/data/FUTURES_case_study/\")"
   ]
  },
  {
   "cell_type": "code",
   "execution_count": null,
   "metadata": {},
   "outputs": [],
   "source": [
    "import subprocess\n",
    "import sys\n",
    "import pathlib\n",
    "import json\n",
    "import pandas as pd\n",
    "from IPython.display import Image\n",
    "\n",
    "# Ask GRASS GIS where its Python packages are.\n",
    "sys.path.append(\n",
    "    subprocess.check_output([\"grass8\", \"--config\", \"python_path\"], text=True).strip()\n",
    ")\n",
    "\n",
    "# Import GRASS packages\n",
    "import grass.script as gs\n",
    "import grass.jupyter as gj\n",
    "\n",
    "# Start GRASS Session\n",
    "session = gj.init(\".\", \"FUTURES\", \"figure\")"
   ]
  },
  {
   "cell_type": "code",
   "execution_count": null,
   "metadata": {},
   "outputs": [],
   "source": [
    "!g.region region=nashville -p"
   ]
  },
  {
   "cell_type": "code",
   "execution_count": null,
   "metadata": {},
   "outputs": [],
   "source": [
    "%%writefile frame.txt\n",
    "color 255:255:255\n",
    "  polyline\n",
    "   807097 1497916\n",
    "   807097 1519224\n",
    "   833094 1519224\n",
    "   833094 1497916\n",
    "    807097 1497916"
   ]
  },
  {
   "cell_type": "code",
   "execution_count": null,
   "metadata": {},
   "outputs": [],
   "source": [
    "label|symbol_name|size|color_type|feature_color|fill_color|line_width|geometry_type|feature_count"
   ]
  },
  {
   "cell_type": "code",
   "execution_count": null,
   "metadata": {},
   "outputs": [],
   "source": [
    "%%writefile legend.txt\n",
    "2019|legend/area|100|lf|none|#9c9c9c|1|area|1\n",
    "2050|legend/area|25|lf|none|#F6ABFF|1|area|1"
   ]
  },
  {
   "cell_type": "code",
   "execution_count": null,
   "metadata": {},
   "outputs": [],
   "source": [
    "gs.run_command(\"g.region\", n=1528356, s=1450112, w=787446, e=882910, align=\"probability@tutorial\", save=\"nashville\")\n",
    "gs.write_command(\"r.colors\", map=\"urban_2019@tutorial\", rules=\"-\",stdin=\"0 white\\n1 #9c9c9c\")\n",
    "gs.run_command(\"r.colors\", map=\"probability@tutorial\", color=\"magma\")\n",
    "m = gj.Map(saved_region=\"nashville\", width=1000)\n",
    "m.d_background(color=\"#2D2D2D\")\n",
    "m.d_rast(map=\"probability@tutorial\")\n",
    "m.d_rast(map=\"urban_2019@tutorial\", values=1)\n",
    "m.d_vect(map=\"tl_2021_47_prisecroads\", color=\"200:200:200\", width=1)\n",
    "m.d_legend(raster=\"probability@tutorial\", color=\"black\", at=\"4,8,1,38\", title=\"Development probability\", #at=\"1,15,1,4\"\n",
    "           flags=\"b\", border_color=\"white\", fontsize=18, labelnum=2, digits=0, title_fontsize=25, font=\"Lato-Regular\")\n",
    "m.d_graph(input=\"frame.txt\", flags=\"m\")\n",
    "m.d_barscale(style=\"solid\", at=[40,3], font=\"Lato-Regular\", length=20, unit=\"kilometers\", fontsize=17)\n",
    "m.save(\"nashville.png\")\n",
    "m.show()\n"
   ]
  },
  {
   "cell_type": "code",
   "execution_count": null,
   "metadata": {},
   "outputs": [],
   "source": [
    "\n",
    "gs.run_command(\"g.region\", n=1519224, s=1497916, w=807097, e=833094, align=\"probability@tutorial\", save=\"nashville_zoom\")\n",
    "gs.write_command(\"r.colors\", map=\"out_seed_1@results_1\", rules=\"-\", stdin=\"-1 #171717\\n0 #878686\\n1 #F6ABFF\\n 100 #F6ABFF\")\n",
    "m = gj.Map(saved_region=\"nashville_zoom\", width=1000)\n",
    "m.d_background(color=\"#2D2D2D\")\n",
    "m.d_rast(map=\"out_seed_1@results_1\")\n",
    "#m.d_rast(map=\"urban_2019@tutorial\", values=1)\n",
    "m.d_vect(map=\"tl_2021_47_prisecroads\", color=\"200:200:200\", width=1)\n",
    "#m.d_legend(raster=\"probability@tutorial\", color=\"black\", at=\"1,15,1,4\", title=\"Probability\", flags=\"b\", border_color=\"white\", fontsize=15, labelnum=2, digits=0)\n",
    "m.d_legend_vect(flags=\"b\", at=[1,20], symbol_size=50, fontsize=20, input=\"legend.txt\",\n",
    "                title=\"Developed land\", border_color=\"none\", font=\"Lato-Regular\", columns=1)\n",
    "m.d_barscale(style=\"solid\", at=[21,3], font=\"Lato-Regular\", length=5, unit=\"kilometers\", fontsize=17)\n",
    "m.save(\"nashville_zoomin.png\")\n",
    "m.show()"
   ]
  },
  {
   "cell_type": "code",
   "execution_count": null,
   "metadata": {},
   "outputs": [],
   "source": [
    "gs.run_command(\"r.colors\", map=\"forest_loss@tutorial\", color=\"forest_cover\")\n",
    "gs.run_command(\"r.mask\", raster=\"SE_states\")\n",
    "m = gj.Map(width=1000, use_region=True)\n",
    "m.d_background(color=\"white\")\n",
    "m.d_rast(map=\"forest_loss@tutorial\")\n",
    "#m.d_rast(map=\"urban_2019@tutorial\", values=1)\n",
    "m.d_vect(map=\"SE_counties@tutorial\", color=\"200:200:200\", width=1, fill_color=\"none\")\n",
    "m.d_legend(raster=\"forest_loss@tutorial\", color=\"black\", at=\"3,7,4,19\", title=\"Forest loss [km sq]\", #at=\"1,15,1,4\"\n",
    "           flags=\"b\", border_color=\"white\", fontsize=20, labelnum=2, digits=0, title_fontsize=25)\n",
    "m.show()"
   ]
  },
  {
   "cell_type": "code",
   "execution_count": null,
   "metadata": {},
   "outputs": [],
   "source": [
    "#v.dissolve --overwrite input=SE_counties@tutorial column=STATEFP output=SE_states\n",
    "gs.write_command(\"r.colors\", map=\"urban_2019@tutorial\", rules=\"-\",stdin=\"0 white\\n1 #9c9c9c\")\n",
    "gs.run_command(\"r.mask\", raster=\"SE_states\")\n",
    "m = gj.Map(width=1000, use_region=True)\n",
    "m.d_background(color=\"#2D2D2D\")\n",
    "m.d_rast(map=\"probability@tutorial\")\n",
    "#m.d_rast(map=\"urban_2019@tutorial\", values=1)\n",
    "m.d_rast(map=\"urban_2019@tutorial\", values=1)\n",
    "m.d_vect(map=\"SE_states\", color=\"200:200:200\", width=1, fill_color=\"none\")\n",
    "\n",
    "m.show()"
   ]
  },
  {
   "cell_type": "code",
   "execution_count": null,
   "metadata": {},
   "outputs": [],
   "source": []
  }
 ],
 "metadata": {
  "kernelspec": {
   "display_name": "Python 3",
   "language": "python",
   "name": "python3"
  },
  "language_info": {
   "codemirror_mode": {
    "name": "ipython",
    "version": 3
   },
   "file_extension": ".py",
   "mimetype": "text/x-python",
   "name": "python",
   "nbconvert_exporter": "python",
   "pygments_lexer": "ipython3",
   "version": "3.8.10"
  }
 },
 "nbformat": 4,
 "nbformat_minor": 4
}
