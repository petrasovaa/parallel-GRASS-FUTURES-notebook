{
 "cells": [
  {
   "cell_type": "markdown",
   "metadata": {
    "tags": []
   },
   "source": [
    "Minimum requirements:\n",
    " * cores\n",
    " * memory"
   ]
  },
  {
   "cell_type": "markdown",
   "metadata": {},
   "source": [
    "# Data preprocessing"
   ]
  },
  {
   "cell_type": "code",
   "execution_count": 171,
   "metadata": {},
   "outputs": [],
   "source": [
    "import os\n",
    "import subprocess\n",
    "import sys\n",
    "import time\n",
    "import pathlib\n",
    "import json\n",
    "import pandas as pd\n",
    "\n",
    "from IPython.display import Image\n",
    "\n",
    "grassdata = pathlib.Path(\"/data/grassdata\")\n",
    "inputs = pathlib.Path(\"/data/FUTURES/nlcd\")\n",
    "os.chdir(inputs)"
   ]
  },
  {
   "cell_type": "code",
   "execution_count": null,
   "metadata": {},
   "outputs": [],
   "source": [
    "# Ask GRASS GIS where its Python packages are.\n",
    "sys.path.append(\n",
    "    subprocess.check_output([\"grass8\", \"--config\", \"python_path\"], text=True).strip()\n",
    ")\n",
    "\n",
    "# Import GRASS packages\n",
    "import grass.script as gs\n",
    "import grass.jupyter as gj\n",
    "\n",
    "# Start GRASS Session\n",
    "session = gj.init(grassdata, \"FUTURES\", \"PERMANENT\")"
   ]
  },
  {
   "cell_type": "code",
   "execution_count": null,
   "metadata": {},
   "outputs": [],
   "source": [
    "gs.run_command(\"g.extension\", extension=\"r.futures\")\n",
    "gs.run_command(\"g.extension\", extension=\"r.mapcalc.tiled\")\n",
    "gs.run_command(\"g.extension\", extension=\"r.sample.category\")"
   ]
  },
  {
   "cell_type": "markdown",
   "metadata": {},
   "source": [
    "## Preprocessing"
   ]
  },
  {
   "cell_type": "markdown",
   "metadata": {},
   "source": [
    "Dataset contains raster layers:\n",
    "\n",
    "* nlcd_2001\n",
    "* nlcd_2004\n",
    "* nlcd_2006\n",
    "* nlcd_2008\n",
    "* nlcd_2011\n",
    "* nlcd_2013\n",
    "* nlcd_2016\n",
    "* nlcd_2019\n",
    "* DEM\n",
    "\n",
    "And vector layers:\n",
    "* tl_2021_us_county\n",
    "* protected"
   ]
  },
  {
   "cell_type": "markdown",
   "metadata": {},
   "source": [
    "### Process county boundaries"
   ]
  },
  {
   "cell_type": "code",
   "execution_count": null,
   "metadata": {},
   "outputs": [],
   "source": [
    "%%bash\n",
    "v.extract tl_2021_us_county output=SE_counties where=\"STATEFP in ('01', '12', '13', '37', '45', '47')\" --q\n",
    "v.db.addcolumn SE_counties column=\"state integer\" --q\n",
    "v.db.addcolumn SE_counties column=\"county integer\" --q\n",
    "v.db.update SE_counties col=state qcol=\"CAST(STATEFP AS integer)\" --q\n",
    "v.db.update SE_counties col=county qcol=\"CAST(GEOID AS integer)\" --q\n",
    "v.dissolve input=SE_counties column=state output=SE_states --q"
   ]
  },
  {
   "cell_type": "code",
   "execution_count": null,
   "metadata": {},
   "outputs": [],
   "source": [
    "from grass.pygrass.modules.grid import GridModule\n",
    "region = gs.region()\n",
    "nprocs = 8\n",
    "height = int(region[\"rows\"] / nprocs) + 1\n",
    "width = region[\"cols\"]\n",
    "grid = GridModule(\"v.to.rast\", input=\"SE_states\", output=\"SE_states\", type=\"area\", use=\"cat\",\n",
    "                 width=width, height=height, processes=nprocs)\n",
    "grid.run()"
   ]
  },
  {
   "cell_type": "markdown",
   "metadata": {},
   "source": [
    "Split states for further parallelization:"
   ]
  },
  {
   "cell_type": "code",
   "execution_count": null,
   "metadata": {},
   "outputs": [],
   "source": [
    "states = [1, 12, 13, 37, 45, 47]\n",
    "gs.use_temp_region()\n",
    "for state in states:\n",
    "    gs.run_command(\"v.extract\", input=\"SE_counties\", where=f\"state == '{state}'\", output=f\"state_{state}\")\n",
    "    gs.run_command(\"g.region\", vector=f\"state_{state}\", align=\"nlcd_2019\")\n",
    "    gs.run_command(\"v.to.rast\", input=f\"state_{state}\", output=f\"state_{state}\", use=\"attr\", attribute_column=\"county\")\n",
    "gs.del_temp_region()"
   ]
  },
  {
   "cell_type": "markdown",
   "metadata": {},
   "source": [
    "### Protected land"
   ]
  },
  {
   "cell_type": "code",
   "execution_count": null,
   "metadata": {},
   "outputs": [],
   "source": [
    "start = time.time()\n",
    "gs.run_command(\"v.to.rast\", input=\"protected\", output=\"protected\", type=\"area\", use=\"val\")\n",
    "time.time() - start"
   ]
  },
  {
   "cell_type": "code",
   "execution_count": null,
   "metadata": {},
   "outputs": [],
   "source": [
    "start = time.time()\n",
    "\n",
    "region = gs.region()\n",
    "nprocs = 8\n",
    "height = int(region[\"rows\"] / nprocs) + 1\n",
    "width = region[\"cols\"]\n",
    "grid = GridModule(\"v.to.rast\", input=\"protected\", output=\"protected\", type=\"area\", use=\"val\",\n",
    "                 width=width, height=height, processes=nprocs)\n",
    "grid.run()\n",
    "time.time() - start"
   ]
  },
  {
   "cell_type": "code",
   "execution_count": null,
   "metadata": {},
   "outputs": [],
   "source": [
    "gs.run_command(\"r.mapcalc.tiled\", expression=\"masking = if((isnull(protected) &&  isnull(water) && (nlcd_2019 != 0)), 1, null())\", width=width, height=height, nprocs=nprocs)"
   ]
  },
  {
   "cell_type": "markdown",
   "metadata": {},
   "source": [
    "### Process NLCD data"
   ]
  },
  {
   "cell_type": "code",
   "execution_count": null,
   "metadata": {},
   "outputs": [],
   "source": [
    "NLCD_years = [2001, 2004, 2006, 2008, 2011, 2013, 2016, 2019]\n",
    "NLCD_descriptor_years = [2001, 2019]\n",
    "gs.write_command(\"r.reclass\", input=\"nlcd_2019\", output=\"water\", rules=\"-\", stdin=\"11 = 1\")\n",
    "gs.write_command(\"r.reclass\", input=\"nlcd_2019\", output=\"forest\", rules=\"-\", stdin=\"41 42 43 = 1\")\n",
    "gs.write_command(\"r.reclass\", input=\"nlcd_descriptor_2019\", output=\"roads\", rules=\"-\", stdin=\"20 21 22 23 = 1\")\n",
    "for year in NLCD_years:\n",
    "    gs.write_command(\"r.reclass\", input=f\"nlcd_{year}\", output=f\"urban_{year}\", rules=\"-\", stdin=\"20 21 22 23 = 1\\n* = 0\")\n",
    "for year in NLCD_descriptor_years:\n",
    "    gs.write_command(\"r.reclass\", input=f\"nlcd_descriptor_{year}\", output=f\"urban_no_roads_{year}\", rules=\"-\", stdin=\"24 25 26 = 1\\n* = 0\")"
   ]
  },
  {
   "cell_type": "markdown",
   "metadata": {},
   "source": [
    "In Bash use background processing to compute distance to water, forest, and roads in parallel since these are independent:"
   ]
  },
  {
   "cell_type": "code",
   "execution_count": null,
   "metadata": {},
   "outputs": [],
   "source": [
    "%%bash\n",
    "r.grow.distance input=water distance=dist_to_water -m &\n",
    "r.grow.distance input=forest distance=dist_to_forest -m &\n",
    "r.grow.distance input=roads distance=dist_to_roads -m &\n",
    "wait"
   ]
  },
  {
   "cell_type": "markdown",
   "metadata": {},
   "source": [
    "We can use r.mapcalc.tiled to split computation into tiles:"
   ]
  },
  {
   "cell_type": "code",
   "execution_count": null,
   "metadata": {},
   "outputs": [],
   "source": [
    "region = gs.region()\n",
    "nprocs = 8\n",
    "height = int(region[\"rows\"] / nprocs) + 1\n",
    "width = region[\"cols\"]\n",
    "gs.run_command(\"r.mapcalc.tiled\", expression=\"log_dist_to_water = log(dist_to_water + 1)\", width=width, height=height, nprocs=nprocs)\n",
    "gs.run_command(\"r.mapcalc.tiled\", expression=\"log_dist_to_forest = log(dist_to_forest + 1)\", width=width, height=height, nprocs=nprocs)\n",
    "gs.run_command(\"r.mapcalc.tiled\", expression=\"log_dist_to_roads = log(dist_to_roads + 1)\", width=width, height=height, nprocs=nprocs)"
   ]
  },
  {
   "cell_type": "markdown",
   "metadata": {},
   "source": [
    "Development pressure"
   ]
  },
  {
   "cell_type": "code",
   "execution_count": null,
   "metadata": {},
   "outputs": [],
   "source": [
    "gs.run_command(\"r.futures.devpressure\", input=\"urban_no_roads_2001\", output=\"devpressure_2001\", size=10, gamma=1.5, nprocs=8)\n",
    "gs.run_command(\"r.futures.devpressure\", input=\"urban_no_roads_2019\", output=\"devpressure_2019\", size=10, gamma=1.5, nprocs=8)"
   ]
  },
  {
   "cell_type": "markdown",
   "metadata": {},
   "source": [
    "### Process DEM"
   ]
  },
  {
   "cell_type": "code",
   "execution_count": null,
   "metadata": {},
   "outputs": [],
   "source": [
    "gs.run_command(\"r.slope.aspect\", elevation=\"DEM\", slope=\"slope\", flags=\"e\", nprocs=8)"
   ]
  },
  {
   "cell_type": "markdown",
   "metadata": {
    "tags": []
   },
   "source": [
    "### Demand"
   ]
  },
  {
   "cell_type": "code",
   "execution_count": null,
   "metadata": {},
   "outputs": [],
   "source": [
    "%%writefile demand_for_state.py\n",
    "import sys\n",
    "import grass.script as gs\n",
    "\n",
    "state = sys.argv[1]\n",
    "\n",
    "gs.run_command(\"g.region\", raster=f\"state_{state}\")\n",
    "gs.mapcalc(\"MASK = if (isnull(roads), 1, null())\")\n",
    "gs.run_command(\"r.futures.demand\", subregions=f\"state_{state}\",\n",
    "               development=[f\"urban_{year}\" for year in [2001, 2004, 2006, 2008, 2011, 2013, 2016, 2019]],\n",
    "               observed_population=\"observed_population_SE_counties_NLCD_2001-2019.csv\",\n",
    "               projected_population=\"Hauer_2020_2100_SE_counties_SSP2_projections_demand.csv\",\n",
    "               simulation_times=list(range(2019, 2101)), method=\"logarithmic\",\n",
    "               demand=f\"demand_{state}.csv\", plot=f\"demand_{state}.png\", overwrite=True)"
   ]
  },
  {
   "cell_type": "code",
   "execution_count": null,
   "metadata": {},
   "outputs": [],
   "source": [
    "%%bash\n",
    "rm -f demand_jobs.sh\n",
    "for S in 1 12 13 37 45 47\n",
    "do\n",
    "    echo grass8 --tmp-mapset /data/grassdata/FUTURES --exec python demand_for_state.py ${S} >> demand_jobs.sh\n",
    "done\n",
    "cat demand_jobs.sh\n",
    "parallel -j 6 < demand_jobs.sh 2> log.txt"
   ]
  },
  {
   "cell_type": "code",
   "execution_count": null,
   "metadata": {},
   "outputs": [],
   "source": [
    "Image(\"demand_37.png\")"
   ]
  },
  {
   "cell_type": "markdown",
   "metadata": {},
   "source": [
    "### Sampling"
   ]
  },
  {
   "cell_type": "code",
   "execution_count": null,
   "metadata": {},
   "outputs": [],
   "source": [
    "gs.run_command(\"r.mapcalc.tiled\", expression=\"urban_change = if(urban_2019 == 0 && urban_2001 == 1, 1, 0)\", width=width, height=height, nprocs=nprocs)"
   ]
  },
  {
   "cell_type": "code",
   "execution_count": null,
   "metadata": {},
   "outputs": [],
   "source": [
    "gs.run_command(\"r.buildvrt\", input=[f\"state_{s}\" for s in states], output=\"SE_counties\")"
   ]
  },
  {
   "cell_type": "code",
   "execution_count": null,
   "metadata": {},
   "outputs": [],
   "source": [
    "%%writefile sampling_for_state.py\n",
    "import sys\n",
    "import grass.script as gs\n",
    "\n",
    "state = sys.argv[1]\n",
    "\n",
    "gs.run_command(\"g.region\", raster=f\"state_{state}\")\n",
    "gs.run_command(\"r.mask\", raster=f\"state_{state}\")\n",
    "# create an identical, virtual map of counties with different name to later simplify patching of attribute tables\n",
    "gs.write_command(\"r.reclass\", input=f\"state_{state}\", output=\"counties\", rules=\"-\", stdin=\"* = *\")\n",
    "gs.run_command(\"r.sample.category\", input=\"urban_change\", output=f\"sample_{state}\",\n",
    "               sampled=[\"counties\", \"slope\", \"devpressure_2001\", \"log_dist_to_forest\", \"log_dist_to_water\", \"log_dist_to_roads\"],\n",
    "               npoints=[10000, 5000],\n",
    "               random_seed=1, overwrite=True)\n",
    "gs.run_command(\"r.mask\", flags=\"r\")"
   ]
  },
  {
   "cell_type": "code",
   "execution_count": null,
   "metadata": {},
   "outputs": [],
   "source": [
    "%%bash\n",
    "rm -f sampling_jobs.sh\n",
    "for S in 1 12 13 37 45 47\n",
    "do\n",
    "    rm -rf /data/grassdata/FUTURES/sampling_${S}\n",
    "    echo grass8 -c /data/grassdata/FUTURES/sampling_${S} --exec python sampling_for_state.py ${S} >> sampling_jobs.sh\n",
    "done\n",
    "parallel -j 6 < sampling_jobs.sh 2> log.txt"
   ]
  },
  {
   "cell_type": "code",
   "execution_count": null,
   "metadata": {},
   "outputs": [],
   "source": [
    "gs.run_command(\"v.patch\", input=[f\"sample_{state}@sampling_{state}\" for state in states], output=\"samples\", flags=\"e\")"
   ]
  },
  {
   "cell_type": "markdown",
   "metadata": {},
   "source": [
    "### Potential"
   ]
  },
  {
   "cell_type": "code",
   "execution_count": null,
   "metadata": {},
   "outputs": [],
   "source": [
    "gs.run_command(\"r.futures.potential\", input=\"samples\", output=\"best_model.csv\",\n",
    "               columns=[\"slope\", \"devpressure_2001\", \"log_dist_to_forest\", \"log_dist_to_water\", \"log_dist_to_roads\"],\n",
    "               developed_column=\"urban_change\",\n",
    "               subregions_column=\"counties\",\n",
    "               random_column=\"devpressure_2001\",\n",
    "               min_variables=3,\n",
    "               nprocs=8, flags=\"d\",\n",
    "               dredge_output=\"all_models.csv\")"
   ]
  },
  {
   "cell_type": "code",
   "execution_count": null,
   "metadata": {},
   "outputs": [],
   "source": [
    "pd.read_csv(\"all_models.csv\", index_col=0)"
   ]
  },
  {
   "cell_type": "code",
   "execution_count": null,
   "metadata": {},
   "outputs": [],
   "source": [
    "pd.read_csv(\"best_model.csv\", index_col=0)"
   ]
  },
  {
   "cell_type": "markdown",
   "metadata": {},
   "source": [
    "### Calibration"
   ]
  },
  {
   "cell_type": "code",
   "execution_count": null,
   "metadata": {},
   "outputs": [],
   "source": [
    "%%writefile calibration_for_state.py\n",
    "import sys\n",
    "import grass.script as gs\n",
    "\n",
    "state = sys.argv[1]\n",
    "\n",
    "gs.run_command(\"g.region\", raster=f\"state_{state}\")\n",
    "gs.run_command(\"r.futures.calib\", flags=\"sl\",\n",
    "               development_start=\"urban_2001\", development_end=\"urban_2019\",\n",
    "               subregions=f\"state_{state}\", patch_threshold=1800,\n",
    "               patch_sizes=f\"patch_sizes_{state}.csv\", nprocs=1)"
   ]
  },
  {
   "cell_type": "code",
   "execution_count": null,
   "metadata": {},
   "outputs": [],
   "source": [
    "! cat calibration_for_state.py"
   ]
  },
  {
   "cell_type": "code",
   "execution_count": 170,
   "metadata": {},
   "outputs": [
    {
     "name": "stderr",
     "output_type": "stream",
     "text": [
      "\n",
      "real\t30m3.346s\n",
      "user\t108m47.952s\n",
      "sys\t1m30.163s\n"
     ]
    }
   ],
   "source": [
    "%%bash\n",
    "rm -f calibration_jobs.sh\n",
    "for S in 1 12 13 37 45 47\n",
    "do\n",
    "    echo grass8 --tmp-mapset /data/grassdata/FUTURES/ --exec python calibration_for_state.py ${S} >> calibration_jobs.sh\n",
    "done\n",
    "time parallel -j 6 < calibration_jobs.sh 2> log.txt"
   ]
  },
  {
   "cell_type": "markdown",
   "metadata": {},
   "source": [
    "### FUTURES PGA"
   ]
  },
  {
   "cell_type": "code",
   "execution_count": null,
   "metadata": {},
   "outputs": [],
   "source": [
    "%%writefile simulation_for_state.py\n",
    "import sys\n",
    "import grass.script as gs\n",
    "\n",
    "state, seed = sys.argv[1:3]\n",
    "\n",
    "gs.run_command(\"g.region\", raster=f\"state_{state}\")\n",
    "gs.run_command(\"r.mask\", raster=\"masking\")\n",
    "gs.run_command(\"r.futures.pga\", developed=\"urban_2019\", development_pressure=\"devpressure_2019\",\n",
    "               compactness_mean=0.5, compactness_range=0.1, discount_factor=1,\n",
    "               predictors=[\"log_dist_to_forest\", \"log_dist_to_roads\", \"log_dist_to_water\", \"slope\"],\n",
    "               n_dev_neighbourhood=10, devpot_params=\"best_model.csv\", num_neighbors=4, seed_search=\"probability\",\n",
    "               development_pressure_approach=\"gravity\", gamma=1.5, scaling_factor=1,\n",
    "               subregions=f\"state_{state}\", demand=f\"demand_{state}.csv\",\n",
    "               output=f\"out_state_{state}_seed_{seed}\", patch_sizes=f\"patch_sizes_{state}.csv\", memory=12, random_seed=seed)\n",
    "gs.run_command(\"r.mask\", flags=\"r\")"
   ]
  },
  {
   "cell_type": "code",
   "execution_count": null,
   "metadata": {},
   "outputs": [],
   "source": [
    "!rm -rf /data/grassdata/FUTURES/pga_1\n",
    "!grass8 -c /data/grassdata/FUTURES/pga_1 --exec python simulation_for_state.py 1 1 >> pga_jobs.sh"
   ]
  },
  {
   "cell_type": "code",
   "execution_count": null,
   "metadata": {},
   "outputs": [],
   "source": [
    "%%bash\n",
    "rm -f pga_jobs.sh\n",
    "for SEED in {1..10}\n",
    "do\n",
    "    for STATE in 1 12 13 37 45 47\n",
    "    do\n",
    "        rm -rf /data/grassdata/FUTURES/pga_${STATE}_${SEED}\n",
    "        echo grass8 -c /data/grassdata/FUTURES/pga_${STATE}_${SEED} --exec python simulation_for_state.py ${STATE} ${SEED} >> pga_jobs.sh\n",
    "    done\n",
    "done\n",
    "time parallel -j 6 < pga_jobs.sh 2> log.txt"
   ]
  },
  {
   "cell_type": "code",
   "execution_count": null,
   "metadata": {},
   "outputs": [],
   "source": [
    "%%bash\n",
    "rm -f patch_jobs.h\n",
    "for SEED in {1..10}\n",
    "do\n",
    "    MAPS=$(grass --tmp-mapset /data/grassdata/FUTURES --exec \\\n",
    "           g.list type=raster pattern=\"out_state_*_seed_${SEED}\" mapset=\"*\" -m separator=comma)\n",
    "    rm -rf /data/grassdata/FUTURES/results_${SEED}\n",
    "    echo grass8 -c /data/grassdata/FUTURES/results_${SEED} --exec r.patch input=${MAPS} output=\"out_seed_${SEED}\" nprocs=4 >> patch_jobs.sh\n",
    "done\n",
    "time parallel -j 5 < patch_jobs.sh 2> log.txt"
   ]
  },
  {
   "cell_type": "code",
   "execution_count": null,
   "metadata": {},
   "outputs": [],
   "source": [
    "%%writefile reclass.txt\n",
    "-1 0 = 0\n",
    "1 thru 81 = 1\n",
    "* = 0"
   ]
  },
  {
   "cell_type": "code",
   "execution_count": null,
   "metadata": {},
   "outputs": [],
   "source": [
    "for i in range(1, 11):\n",
    "    gs.run_command(\"r.reclass\", input=f\"out_seed_{seed}@results_{seed}\", output=f\"out_seed_{seed}\", rules=\"reclass.txt\")\n",
    "gs.run_command(\"r.series\", input=[f\"out_seed_{seed}\" for seed in range(1, 11)], output=\"sum\", method=\"sum\") # nprocs=\n",
    "gs.run_command(\"r.mapcalc.tiled\", expression=\"probability = float(sum) / 10\", width=width, height=height, nprocs=nprocs)\n"
   ]
  },
  {
   "cell_type": "markdown",
   "metadata": {},
   "source": [
    "### Validation"
   ]
  },
  {
   "cell_type": "code",
   "execution_count": null,
   "metadata": {},
   "outputs": [],
   "source": [
    "import os\n",
    "import sys\n",
    "import json\n",
    "from multiprocessing import Pool\n",
    "\n",
    "\n",
    "def compute(params):\n",
    "    env = os.environ.copy()\n",
    "    region = params.pop(\"region\")\n",
    "    env[\"GRASS_REGION\"] = gs.region_env(**region)\n",
    "    results = gs.read_command(\n",
    "        \"r.futures.validation\", format=\"json\", env=env, quiet=True, **params\n",
    "    )\n",
    "    results = json.loads(results)\n",
    "    reg = gs.region(env=env)\n",
    "    results[\"n\"] = (reg[\"n\"] + reg[\"s\"]) / 2\n",
    "    results[\"e\"] = (reg[\"e\"] + reg[\"w\"]) / 2\n",
    "    return results\n",
    "\n",
    "\n",
    "with Pool(processes=nprocs) as pool:\n",
    "    results = pool.map_async(compute, params).get()"
   ]
  }
 ],
 "metadata": {
  "kernelspec": {
   "display_name": "Python 3",
   "language": "python",
   "name": "python3"
  },
  "language_info": {
   "codemirror_mode": {
    "name": "ipython",
    "version": 3
   },
   "file_extension": ".py",
   "mimetype": "text/x-python",
   "name": "python",
   "nbconvert_exporter": "python",
   "pygments_lexer": "ipython3",
   "version": "3.8.10"
  }
 },
 "nbformat": 4,
 "nbformat_minor": 4
}
